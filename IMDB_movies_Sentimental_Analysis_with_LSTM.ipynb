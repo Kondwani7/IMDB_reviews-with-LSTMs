{
  "nbformat": 4,
  "nbformat_minor": 0,
  "metadata": {
    "colab": {
      "name": "IMDB movies Sentimental Analysis with LSTM.ipynb",
      "provenance": [],
      "authorship_tag": "ABX9TyOsmeI5YoQqJ50bSDQUlD4R",
      "include_colab_link": true
    },
    "kernelspec": {
      "name": "python3",
      "display_name": "Python 3"
    },
    "language_info": {
      "name": "python"
    }
  },
  "cells": [
    {
      "cell_type": "markdown",
      "metadata": {
        "id": "view-in-github",
        "colab_type": "text"
      },
      "source": [
        "<a href=\"https://colab.research.google.com/github/Kondwani7/IMDB_reviews-with-LSTMs/blob/main/IMDB_movies_Sentimental_Analysis_with_LSTM.ipynb\" target=\"_parent\"><img src=\"https://colab.research.google.com/assets/colab-badge.svg\" alt=\"Open In Colab\"/></a>"
      ]
    },
    {
      "cell_type": "code",
      "metadata": {
        "colab": {
          "base_uri": "https://localhost:8080/"
        },
        "id": "hgRzD-OAYfPr",
        "outputId": "b09b6122-b344-4f00-bb6f-e2e0d0846ae1"
      },
      "source": [
        "#bag of words encoding, based on word frequency\n",
        "vocab = {} # mapping a word to an integer encoding\n",
        "word_encoding = 1\n",
        "def bag_of_words(text):\n",
        "  global word_encoding\n",
        "\n",
        "  words = text.lower().split(' ')#ensuring text is all in lower case\n",
        "  bag = {}# store encodings and their frequency\n",
        "  for word in words:\n",
        "    if word in vocab:\n",
        "      encoding = vocab[word] # get a specific encoding from the vocab\n",
        "    else:\n",
        "      vocab[word] = word_encoding\n",
        "      encoding = word_encoding\n",
        "      word_encoding += 1\n",
        "\n",
        "    if encoding in bag:\n",
        "      bag[encoding] += 1 \n",
        "    else:\n",
        "      bag[encoding] = 1\n",
        "  return bag\n",
        "\n",
        "text = 'testing bag to see it works in frequency yep, basically thats it'\n",
        "bag = bag_of_words(text)\n",
        "print(bag)\n",
        "print(vocab)\n"
      ],
      "execution_count": null,
      "outputs": [
        {
          "output_type": "stream",
          "text": [
            "{1: 1, 2: 1, 3: 1, 4: 1, 5: 2, 6: 1, 7: 1, 8: 1, 9: 1, 10: 1, 11: 1}\n",
            "{'testing': 1, 'bag': 2, 'to': 3, 'see': 4, 'it': 5, 'works': 6, 'in': 7, 'frequency': 8, 'yep,': 9, 'basically': 10, 'thats': 11}\n"
          ],
          "name": "stdout"
        }
      ]
    },
    {
      "cell_type": "code",
      "metadata": {
        "colab": {
          "base_uri": "https://localhost:8080/"
        },
        "id": "bLYmt5wTasp3",
        "outputId": "ebca9d90-f6d0-4ff9-bd92-7d95ee2b4aee"
      },
      "source": [
        "#sentimental analysis testing the bag of words model\n",
        "postive_review_1 = 'I thought that new coca cola ad was bad and pretty irriating'\n",
        "negative_review = 'I thought that the new coca cola advert was good and creative'\n",
        "postive_review_2 = 'That coca cola ad was crazy lit'\n",
        "\n",
        "pos_bag_1 = bag_of_words(postive_review_1)\n",
        "neg_bag = bag_of_words(negative_review)\n",
        "pos_bag_2 = bag_of_words(postive_review_2)\n",
        "\n",
        "\n",
        "print(\"Positive review:\", pos_bag_1)\n",
        "print(\"Negative review:\", neg_bag)\n",
        "print('Positive review', pos_bag_2)"
      ],
      "execution_count": null,
      "outputs": [
        {
          "output_type": "stream",
          "text": [
            "Positive review: {12: 1, 13: 1, 14: 1, 15: 1, 16: 1, 17: 1, 18: 1, 19: 1, 20: 1, 21: 1, 22: 1, 23: 1}\n",
            "Negative review: {12: 1, 13: 1, 14: 1, 24: 1, 15: 1, 16: 1, 17: 1, 25: 1, 19: 1, 26: 1, 21: 1, 27: 1}\n",
            "Positive review {14: 1, 16: 1, 17: 1, 18: 1, 19: 1, 28: 1, 29: 1}\n"
          ],
          "name": "stdout"
        }
      ]
    },
    {
      "cell_type": "code",
      "metadata": {
        "id": "HLOWx5E0bxaC",
        "colab": {
          "base_uri": "https://localhost:8080/"
        },
        "outputId": "b9457bb4-2784-4cac-b4fa-7c3872fa6c80"
      },
      "source": [
        "#word embedding, it ensures the order of the sentence remains the same whilst grouping similar words\n",
        "#lstms & rnns\n",
        "#working the imdb movies dataset, sentimental analysis\n",
        "from keras.datasets import imdb\n",
        "from keras.preprocessing import sequence\n",
        "import keras\n",
        "import tensorflow as tf\n",
        "import os\n",
        "import numpy as np\n",
        "VOCAB_SIZE = 88584\n",
        "MAXLEN = 250\n",
        "BATCH_SIZE = 64\n",
        "\n",
        "(train_data, train_labels), (test_data, test_labels) = imdb.load_data(num_words = VOCAB_SIZE)\n"
      ],
      "execution_count": null,
      "outputs": [
        {
          "output_type": "stream",
          "text": [
            "Downloading data from https://storage.googleapis.com/tensorflow/tf-keras-datasets/imdb.npz\n",
            "17465344/17464789 [==============================] - 0s 0us/step\n",
            "17473536/17464789 [==============================] - 0s 0us/step\n"
          ],
          "name": "stdout"
        },
        {
          "output_type": "stream",
          "text": [
            "<string>:6: VisibleDeprecationWarning: Creating an ndarray from ragged nested sequences (which is a list-or-tuple of lists-or-tuples-or ndarrays with different lengths or shapes) is deprecated. If you meant to do this, you must specify 'dtype=object' when creating the ndarray\n",
            "/usr/local/lib/python3.7/dist-packages/keras/datasets/imdb.py:155: VisibleDeprecationWarning: Creating an ndarray from ragged nested sequences (which is a list-or-tuple of lists-or-tuples-or ndarrays with different lengths or shapes) is deprecated. If you meant to do this, you must specify 'dtype=object' when creating the ndarray\n",
            "  x_train, y_train = np.array(xs[:idx]), np.array(labels[:idx])\n",
            "/usr/local/lib/python3.7/dist-packages/keras/datasets/imdb.py:156: VisibleDeprecationWarning: Creating an ndarray from ragged nested sequences (which is a list-or-tuple of lists-or-tuples-or ndarrays with different lengths or shapes) is deprecated. If you meant to do this, you must specify 'dtype=object' when creating the ndarray\n",
            "  x_test, y_test = np.array(xs[idx:]), np.array(labels[idx:])\n"
          ],
          "name": "stderr"
        }
      ]
    },
    {
      "cell_type": "code",
      "metadata": {
        "id": "hzMfYckZbom_"
      },
      "source": [
        "'''\n",
        "to ensure the comments are at a consistent length, 250 words, will trim excess words on comments with more than 250 words, and \n",
        "add zeros to comments with worse than 250 words\n",
        "'''\n",
        "train_data = sequence.pad_sequences(train_data, MAXLEN)\n",
        "test_data = sequence.pad_sequences(test_data, MAXLEN)\n"
      ],
      "execution_count": null,
      "outputs": []
    },
    {
      "cell_type": "code",
      "metadata": {
        "colab": {
          "base_uri": "https://localhost:8080/"
        },
        "id": "RjxXWOVvxYLI",
        "outputId": "37f1259a-5a38-420c-f920-3d9a7556e865"
      },
      "source": [
        "#building a test model\n",
        "model = tf.keras.Sequential([\n",
        "    tf.keras.layers.Embedding(VOCAB_SIZE, 32),\n",
        "    tf.keras.layers.LSTM(32),\n",
        "    tf.keras.layers.Dense(1, activation='sigmoid')\n",
        "])\n",
        "\n",
        "model.summary()"
      ],
      "execution_count": null,
      "outputs": [
        {
          "output_type": "stream",
          "text": [
            "Model: \"sequential_6\"\n",
            "_________________________________________________________________\n",
            "Layer (type)                 Output Shape              Param #   \n",
            "=================================================================\n",
            "embedding_6 (Embedding)      (None, None, 32)          2834688   \n",
            "_________________________________________________________________\n",
            "lstm_9 (LSTM)                (None, 32)                8320      \n",
            "_________________________________________________________________\n",
            "dense_6 (Dense)              (None, 1)                 33        \n",
            "=================================================================\n",
            "Total params: 2,843,041\n",
            "Trainable params: 2,843,041\n",
            "Non-trainable params: 0\n",
            "_________________________________________________________________\n"
          ],
          "name": "stdout"
        }
      ]
    },
    {
      "cell_type": "code",
      "metadata": {
        "colab": {
          "base_uri": "https://localhost:8080/"
        },
        "id": "sOgLYb8gxvzI",
        "outputId": "036e9ed6-14c1-4467-aa03-aeb373b7c716"
      },
      "source": [
        "model.compile(loss='binary_crossentropy', optimizer='rmsprop',metrics=['accuracy'])\n",
        "history = model.fit(train_data, train_labels, epochs=10, validation_split=0.25)\n"
      ],
      "execution_count": null,
      "outputs": [
        {
          "output_type": "stream",
          "text": [
            "Epoch 1/10\n",
            "586/586 [==============================] - 77s 127ms/step - loss: 0.4273 - accuracy: 0.8052 - val_loss: 0.2979 - val_accuracy: 0.8782\n",
            "Epoch 2/10\n",
            "586/586 [==============================] - 73s 125ms/step - loss: 0.2388 - accuracy: 0.9098 - val_loss: 0.2956 - val_accuracy: 0.8768\n",
            "Epoch 3/10\n",
            "586/586 [==============================] - 73s 125ms/step - loss: 0.1849 - accuracy: 0.9329 - val_loss: 0.2772 - val_accuracy: 0.8928\n",
            "Epoch 4/10\n",
            "586/586 [==============================] - 73s 125ms/step - loss: 0.1478 - accuracy: 0.9478 - val_loss: 0.2831 - val_accuracy: 0.8883\n",
            "Epoch 5/10\n",
            "586/586 [==============================] - 73s 125ms/step - loss: 0.1241 - accuracy: 0.9551 - val_loss: 0.3126 - val_accuracy: 0.8851\n",
            "Epoch 6/10\n",
            "586/586 [==============================] - 73s 124ms/step - loss: 0.1098 - accuracy: 0.9628 - val_loss: 0.3845 - val_accuracy: 0.8874\n",
            "Epoch 7/10\n",
            "586/586 [==============================] - 73s 124ms/step - loss: 0.0965 - accuracy: 0.9675 - val_loss: 0.3410 - val_accuracy: 0.8837\n",
            "Epoch 8/10\n",
            "586/586 [==============================] - 73s 124ms/step - loss: 0.0831 - accuracy: 0.9714 - val_loss: 0.3387 - val_accuracy: 0.8762\n",
            "Epoch 9/10\n",
            "586/586 [==============================] - 72s 123ms/step - loss: 0.0747 - accuracy: 0.9758 - val_loss: 0.3636 - val_accuracy: 0.8854\n",
            "Epoch 10/10\n",
            "586/586 [==============================] - 72s 123ms/step - loss: 0.0653 - accuracy: 0.9787 - val_loss: 0.4168 - val_accuracy: 0.8835\n"
          ],
          "name": "stdout"
        }
      ]
    },
    {
      "cell_type": "code",
      "metadata": {
        "colab": {
          "base_uri": "https://localhost:8080/"
        },
        "id": "NzYZqQRXyX6d",
        "outputId": "ede6a5f6-2eab-441d-c26c-9b636c5ae8d0"
      },
      "source": [
        "#evaluate the performance with test data\n",
        "results = model.evaluate(test_data, test_labels)\n",
        "print(results)"
      ],
      "execution_count": null,
      "outputs": [
        {
          "output_type": "stream",
          "text": [
            "782/782 [==============================] - 16s 21ms/step - loss: 0.5271 - accuracy: 0.8526\n",
            "[0.5270854234695435, 0.8525999784469604]\n"
          ],
          "name": "stdout"
        }
      ]
    },
    {
      "cell_type": "code",
      "metadata": {
        "id": "ufCCB2hQGt7n"
      },
      "source": [
        "#plot accuracy\n",
        "import matplotlib.pyplot as plt\n",
        "history_dict = history.history\n",
        "print(history_dict.keys())\n",
        "\n",
        "acc = history_dict['accuracy']\n",
        "val_acc = history_dict['val_accuracy']\n",
        "loss = history_dict['loss']\n",
        "val_loss = history_dict['val_loss']\n",
        "\n",
        "epochs = range(1, len(acc) + 1)\n",
        "fig = plt.figure(figsize=(10, 6))\n",
        "fig.tight_layout()\n",
        "\n",
        "plt.subplot(2, 1, 1)\n",
        "# \"bo\" is for \"blue dot\"\n",
        "plt.plot(epochs, loss, 'r', label='Training loss')\n",
        "# b is for \"solid blue line\"\n",
        "plt.plot(epochs, val_loss, 'b', label='Validation loss')\n",
        "plt.title('Training and validation loss')\n",
        "# plt.xlabel('Epochs')\n",
        "plt.ylabel('Loss')\n",
        "plt.legend()\n",
        "\n",
        "plt.subplot(2, 1, 2)\n",
        "plt.plot(epochs, acc, 'r', label='Training acc')\n",
        "plt.plot(epochs, val_acc, 'b', label='Validation acc')\n",
        "plt.title('Training and validation accuracy')\n",
        "plt.xlabel('Epochs')\n",
        "plt.ylabel('Accuracy')\n",
        "plt.legend(loc='lower right')"
      ],
      "execution_count": null,
      "outputs": []
    },
    {
      "cell_type": "code",
      "metadata": {
        "colab": {
          "base_uri": "https://localhost:8080/"
        },
        "id": "b6YN_FKr1RNO",
        "outputId": "c1d8e29d-4935-4dce-8ab6-95b930b4f094"
      },
      "source": [
        "#make predictions with our on review on a movie\n",
        "word_index = imdb.get_word_index()\n",
        "\n",
        "def encode_text(text):\n",
        "  tokens = keras.preprocessing.text.text_to_word_sequence(text)\n",
        "  tokens = [word_index[word] if word in word_index else 0 for word in tokens]\n",
        "  return sequence.pad_sequences([tokens], MAXLEN)[0]\n",
        "\n",
        "text = 'Bro that end game was crazy amazing. Probably the best avengers game I\\'ve ever watched'\n",
        "encoded = encode_text(text)\n",
        "print(encoded)\n"
      ],
      "execution_count": null,
      "outputs": [
        {
          "output_type": "stream",
          "text": [
            "Downloading data from https://storage.googleapis.com/tensorflow/tf-keras-datasets/imdb_word_index.json\n",
            "1646592/1641221 [==============================] - 0s 0us/step\n",
            "1654784/1641221 [==============================] - 0s 0us/step\n",
            "[    0     0     0     0     0     0     0     0     0     0     0     0\n",
            "     0     0     0     0     0     0     0     0     0     0     0     0\n",
            "     0     0     0     0     0     0     0     0     0     0     0     0\n",
            "     0     0     0     0     0     0     0     0     0     0     0     0\n",
            "     0     0     0     0     0     0     0     0     0     0     0     0\n",
            "     0     0     0     0     0     0     0     0     0     0     0     0\n",
            "     0     0     0     0     0     0     0     0     0     0     0     0\n",
            "     0     0     0     0     0     0     0     0     0     0     0     0\n",
            "     0     0     0     0     0     0     0     0     0     0     0     0\n",
            "     0     0     0     0     0     0     0     0     0     0     0     0\n",
            "     0     0     0     0     0     0     0     0     0     0     0     0\n",
            "     0     0     0     0     0     0     0     0     0     0     0     0\n",
            "     0     0     0     0     0     0     0     0     0     0     0     0\n",
            "     0     0     0     0     0     0     0     0     0     0     0     0\n",
            "     0     0     0     0     0     0     0     0     0     0     0     0\n",
            "     0     0     0     0     0     0     0     0     0     0     0     0\n",
            "     0     0     0     0     0     0     0     0     0     0     0     0\n",
            "     0     0     0     0     0     0     0     0     0     0     0     0\n",
            "     0     0     0     0     0     0     0     0     0     0     0     0\n",
            "     0     0     0     0     0     0     0 20634    12   127   497    13\n",
            "   929   477   239     1   115 19361   497   204   123   293]\n"
          ],
          "name": "stdout"
        }
      ]
    },
    {
      "cell_type": "code",
      "metadata": {
        "colab": {
          "base_uri": "https://localhost:8080/"
        },
        "id": "DENM1o5q2iFw",
        "outputId": "836df46c-ef7a-4eb9-fdd0-d6e8942c2f77"
      },
      "source": [
        "# a decoding function to analyse a individual review\n",
        "reverse_word_index = {value: key for (key, value) in word_index.items()}\n",
        "def decode_review(integers):\n",
        "  PAD = 0\n",
        "  text = \"\"\n",
        "  for num in integers:\n",
        "    if num != PAD:\n",
        "      text += reverse_word_index[num] + \" \"\n",
        "    return text[:-1]\n",
        "print(decode_integers(encoded))\n",
        "  \n"
      ],
      "execution_count": null,
      "outputs": [
        {
          "output_type": "stream",
          "text": [
            "bro that end game was crazy amazing probably the best avengers game i've ever watched\n"
          ],
          "name": "stdout"
        }
      ]
    },
    {
      "cell_type": "code",
      "metadata": {
        "id": "gZqxYFWj3OHY"
      },
      "source": [
        ""
      ],
      "execution_count": null,
      "outputs": []
    }
  ]
}